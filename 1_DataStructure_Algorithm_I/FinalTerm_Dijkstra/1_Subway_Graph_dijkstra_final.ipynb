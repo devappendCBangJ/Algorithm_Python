{
 "cells": [
  {
   "cell_type": "code",
   "execution_count": 24,
   "id": "2c832377",
   "metadata": {},
   "outputs": [],
   "source": [
    "import pandas as pd\n",
    "import numpy as np\n",
    "\n",
    "df_sb_list = pd.read_csv('C:\\\\Users\\\\Hi\\\\Desktop\\\\자료구조\\\\지하철역.csv')"
   ]
  },
  {
   "cell_type": "markdown",
   "id": "dd974e03",
   "metadata": {},
   "source": [
    "# 1. 데이터 전처리"
   ]
  },
  {
   "cell_type": "markdown",
   "id": "27525cc3",
   "metadata": {},
   "source": [
    "## 1) 기본"
   ]
  },
  {
   "cell_type": "code",
   "execution_count": 25,
   "id": "07df1213",
   "metadata": {},
   "outputs": [],
   "source": [
    "sb_list = df_sb_list.to_numpy()"
   ]
  },
  {
   "cell_type": "markdown",
   "id": "737425b8",
   "metadata": {},
   "source": [
    "## 2) 양방향 Graph 전처리(nan 존재x + 호선 구별o + 중복 호선 환승 고려x)"
   ]
  },
  {
   "cell_type": "code",
   "execution_count": 26,
   "id": "1df2d969",
   "metadata": {
    "scrolled": true
   },
   "outputs": [],
   "source": [
    "graph = {}\n",
    "\n",
    "# 모든 역에 대해서 전처리\n",
    "for i in range(5):\n",
    "    for j in range(len(sb_list)):\n",
    "        \n",
    "        # graph 생성 - graph 마지막 원소 전이고, 비어있지 않은 역인 경우\n",
    "        if(j < len(sb_list)-1 and not pd.isna(sb_list[j+1][i]) and not pd.isna(sb_list[j][i])):\n",
    "            # graph에 해당 역 존재 : 해당 역의 key, value 빼서 다시 전처리 + 다음 역 추가시킨 graph 생성\n",
    "            if (sb_list[j][i] + str(i+1)) in graph:\n",
    "                keys = [k for k in graph[sb_list[j][i] + str(i+1)].keys()]\n",
    "                values = [v for v in graph[sb_list[j][i] + str(i+1)].values()]\n",
    "                \n",
    "                dic = {}\n",
    "                for d in range(len(keys)):\n",
    "                    dic[keys[d]] = values[d]\n",
    "                dic[sb_list[j+1][i] + str(i+1)] = 2\n",
    "                graph[sb_list[j][i] + str(i+1)] = dic\n",
    "                \n",
    "            # graph에 해당 역 존재하지 않음 : 다음 역 추가시킨 graph 생성\n",
    "            else:\n",
    "                graph[sb_list[j][i] + str(i+1)] = {(sb_list[j+1][i] + str(i+1)):2}       \n",
    "        # graph 생성 - 비어있는 역인 경우 : 건너뛰기\n",
    "        elif(pd.isna(sb_list[j][i]) == True):\n",
    "            pass\n",
    "        # graph 생성 - 비어있는 역 아닌 경우\n",
    "        else:\n",
    "            # graph에 해당 역 존재 : 건너뛰기\n",
    "            if (str(sb_list[j][i]) + str(i+1)) in graph:\n",
    "                pass\n",
    "            # graph에 해당 역 존재하지 않음 : 빈 원소로 두기\n",
    "            else:\n",
    "                graph[sb_list[j][i] + str(i+1)] = {}\n",
    "                \n",
    "        # graph 생성 - graph 첫 번째 원소 이후이고, 비어있지 않은 역인 경우\n",
    "        if(0 < j and not pd.isna(sb_list[j-1][i]) and not pd.isna(sb_list[j][i])):\n",
    "            # graph에 해당 역 존재 : 해당 역의 key, value 빼서 다시 전처리 + 다음 역 추가시킨 graph 생성\n",
    "            if (sb_list[j][i] + str(i+1)) in graph:\n",
    "                keys = [k for k in graph[sb_list[j][i] + str(i+1)].keys()]\n",
    "                values = [v for v in graph[sb_list[j][i] + str(i+1)].values()]\n",
    "\n",
    "                dic = {}\n",
    "                for d in range(len(keys)):\n",
    "                    dic[keys[d]] = values[d]\n",
    "                dic[sb_list[j-1][i] + str(i+1)] = 2\n",
    "                graph[sb_list[j][i] + str(i+1)] = dic\n",
    "\n",
    "                '''if(sb_list[j][i] == '시청'): # 확인용 코드\n",
    "                    print(keys)\n",
    "                    print(graph[sb_list[j][i]])'''\n",
    "            # graph에 해당 역 존재하지 않음 : 다음 역 추가시킨 graph 생성\n",
    "            else:\n",
    "                graph[sb_list[j][i] + str(i+1)] = {sb_list[j-1][i] + str(i+1):2}\n",
    "        # graph 생성 - graph 첫번째 원소이거나, 비어있는 역인 경우 : 불가능한 경우\n",
    "        else:\n",
    "            pass\n",
    "        \n",
    "# print(graph) # 확인용 코드"
   ]
  },
  {
   "cell_type": "markdown",
   "id": "c630bd25",
   "metadata": {},
   "source": [
    "## 3) 양방향 Graph 전처리 추가(중복 호선 환승 고려o)"
   ]
  },
  {
   "cell_type": "code",
   "execution_count": 27,
   "id": "ff8dfaf4",
   "metadata": {
    "scrolled": false
   },
   "outputs": [],
   "source": [
    "graph_key = list(graph.keys())\n",
    "\n",
    "for i in range(len(graph_key)):\n",
    "    for j in range(i+1, len(graph_key)):\n",
    "        if(graph_key[i][0:len(graph_key[i])-1] == graph_key[j][0:len(graph_key[j])-1]):\n",
    "            keys = [k for k in graph[graph_key[i]]]\n",
    "            values = [v for v in graph[graph_key[i]].values()]\n",
    "\n",
    "            dic = {}\n",
    "            for d in range(len(keys)):\n",
    "                dic[keys[d]] = values[d]\n",
    "            dic[graph_key[j]] = 2\n",
    "            graph[graph_key[i]] = dic\n",
    "\n",
    "            keys = [k for k in graph[graph_key[j]]]\n",
    "            values = [v for v in graph[graph_key[j]].values()]\n",
    "\n",
    "            dic = {}\n",
    "            for d in range(len(keys)):\n",
    "                dic[keys[d]] = values[d]\n",
    "            dic[graph_key[i]] = 2\n",
    "            graph[graph_key[j]] = dic"
   ]
  },
  {
   "cell_type": "markdown",
   "id": "08a0233f",
   "metadata": {},
   "source": [
    "## 4) dijkstra 양방향 Graph 거리 계산(nan 존재x + 호선 구별o + 중복 호선 환승 고려o + 가독성 향상 + 경로 출력 + 환승 횟수 출력 + 하나의 dic으로 통일화 + 목적지까지 최소 거리 완성 시, break)"
   ]
  },
  {
   "cell_type": "code",
   "execution_count": 28,
   "id": "c542928a",
   "metadata": {},
   "outputs": [],
   "source": [
    "# 그래프 : 본인 노드 이름 : {연결된 노드 이름 : 연결된 노드까지의 거리}\n",
    "# dist : 시작 노드에서 특정 노드까지 거리 + 경로 + 환승 횟수 저장 dic\n",
    "# st : 시작 노드\n",
    "# heap : 다음 특정 노드 저장\n",
    "# plus dist : 특정 노드까지 최소 거리\n",
    "# cur dist : 특정 노드까지 거리\n",
    "# cur dest : 특정 노드 노드명\n",
    "\n",
    "import heapq  # 우선순위 큐 구현을 위함\n",
    "\n",
    "def dijkstra(graph, st, end):\n",
    "    # 거리 + track + 환승횟수 초기 설정\n",
    "    global dist\n",
    "    dist = {node: [float('inf')] for node in graph} # [시작 노드에서 특정 노드까지 거리] : 무한대\n",
    "    for node in graph:\n",
    "        dist[node].append([]) # [시작 노드에서 특정 노드까지 경로] : 비어있음\n",
    "        dist[node].append(0) # [시작 노드에서 특정 노드까지 환승 횟수] : 0\n",
    "        \n",
    "    dist[st][1] = [st]\n",
    "    dist[st][0] = 0\n",
    "    \n",
    "    # heap 초기 설정\n",
    "    queue = [] # [정보 저장 heap] 생성\n",
    "    heapq.heappush(queue, [dist[st][0], st])  # [[시작 노드에서 시작 노드까지 거리], [시작 노드명]]를 [정보 저장 heap]에 저장\n",
    "\n",
    "    # graph 생성\n",
    "    while queue:  # heap에서 노드가 빌 때까지 반복\n",
    "        cur_dist, cur_dest = heapq.heappop(queue) # [정보 저장 heap]에서 가장 작은 [[시작 노드에서 특정 노드까지 거리], [특정 노드명]] 빼기\n",
    "        \n",
    "        if(cur_dest == end): # 확인용 코드\n",
    "            break\n",
    "        \n",
    "        if dist[cur_dest][0] < cur_dist: # [정보 저장 heap]에서 가장 작은 [시작 노드에서 특정 노드까지 거리] > [기존 시작 노드에서 특정 노드까지 거리]이면 건너띔\n",
    "            print(dist[cur_dest][0], cur_dist) # 확인용 코드\n",
    "            continue\n",
    "\n",
    "        for new_dest, new_dist in graph[cur_dest].items(): # [특정 노드]에 연결된 [[특정 노드에서 다음 특정 노드까지 거리], [다음 특정 노드명]] 전부 돌기\n",
    "            plus_dist = cur_dist + new_dist # [시작 노드에서 다음 특정 노드까지의 새로운 거리] = [정보 저장 heap]에서 가장 작은 [[시작 노드에서 특정 노드까지 거리], [특정 노드명]] + 특정 노드명에 연결된 [[특정 노드에서 다음 특정 노드까지 거리], [다음 특정 노드명]]\n",
    "            if plus_dist < dist[new_dest][0]: # [시작 노드에서 다음 특정 노드까지 거리] > [시작 노드에서 다음 특정 노드까지의 새로운 거리]라면\n",
    "                # 거리 최신화\n",
    "                dist[new_dest][0] = plus_dist # [시작 노드에서 다음 특정 노드까지 거리] 최신화\n",
    "                \n",
    "                # 경로 최신화\n",
    "                dist[new_dest][1] = dist[cur_dest][1][:] # [시작 노드에서 특정 노드까지 경로] 최신화 (특정 노드 이전까지 경로 얕은 복사 + 특정 노드도 경로에 추가)\n",
    "                dist[new_dest][1].append(new_dest)\n",
    "                    \n",
    "                # 환승 횟수 최신화\n",
    "                if(new_dest[0:len(new_dest)-1] == cur_dest[0:len(cur_dest)-1]): # [시작 노드에서 특정 노드까지 환승 횟수] 최신화 (특정 노드 이전까지 환승 횟수 + 특정 노드도 확인 후 추가)\n",
    "                    dist[new_dest][2] = dist[cur_dest][2] + 1\n",
    "                else:\n",
    "                    dist[new_dest][2] = dist[cur_dest][2]\n",
    "                heapq.heappush(queue, [plus_dist, new_dest]) # [[시작 노드에서 다음 특정 노드까지 거리], [다음 특정 노드명]]을 [정보 저장 heap]에 저장\n",
    "    return dist"
   ]
  },
  {
   "cell_type": "code",
   "execution_count": 29,
   "id": "d93daeed",
   "metadata": {},
   "outputs": [],
   "source": [
    "def print_dist_dijkstra():\n",
    "    st = input(\"출발지 : \")\n",
    "    end = input(\"도착지 : \")\n",
    "    \n",
    "    print(\"ㅡㅡㅡㅡㅡㅡㅡㅡㅡㅡ[결과]ㅡㅡㅡㅡㅡㅡㅡㅡㅡㅡ\")\n",
    "    # print(\"배열 : \", dist[end]) # 확인용 코드\n",
    "    print(\"거리 : \", dist[end][0], \"분\")\n",
    "    print(\"경로 : \", dist[end][1])\n",
    "    print(\"환승 횟수 : \", dist[end][2], \"회\")\n",
    "    print(\"ㅡㅡㅡㅡㅡㅡㅡㅡㅡㅡㅡㅡㅡㅡㅡㅡㅡㅡㅡㅡㅡㅡ\")"
   ]
  },
  {
   "cell_type": "code",
   "execution_count": 30,
   "id": "de68dee2",
   "metadata": {
    "scrolled": true
   },
   "outputs": [
    {
     "name": "stdout",
     "output_type": "stream",
     "text": [
      "출발지 : 시청1\n",
      "도착지 : 상일동5\n",
      "ㅡㅡㅡㅡㅡㅡㅡㅡㅡㅡ[결과]ㅡㅡㅡㅡㅡㅡㅡㅡㅡㅡ\n",
      "거리 :  44 분\n",
      "경로 :  ['시청1', '시청2', '을지로입구2', '을지로3가2', '을지로4가2', '동대문역사문화공원2', '신당2', '상왕십리2', '왕십리2', '왕십리5', '마장5', '답십리5', '장한평5', '군자5', '아차산5', '광나루5', '천호5', '강동5', '길동5', '굽은다리5', '명일5', '고덕5', '상일동5']\n",
      "환승 횟수 :  2 회\n",
      "ㅡㅡㅡㅡㅡㅡㅡㅡㅡㅡㅡㅡㅡㅡㅡㅡㅡㅡㅡㅡㅡㅡ\n"
     ]
    }
   ],
   "source": [
    "print_dist_dijkstra()"
   ]
  },
  {
   "cell_type": "code",
   "execution_count": null,
   "id": "eee744ac",
   "metadata": {},
   "outputs": [],
   "source": []
  }
 ],
 "metadata": {
  "kernelspec": {
   "display_name": "Python 3 (ipykernel)",
   "language": "python",
   "name": "python3"
  },
  "language_info": {
   "codemirror_mode": {
    "name": "ipython",
    "version": 3
   },
   "file_extension": ".py",
   "mimetype": "text/x-python",
   "name": "python",
   "nbconvert_exporter": "python",
   "pygments_lexer": "ipython3",
   "version": "3.9.7"
  }
 },
 "nbformat": 4,
 "nbformat_minor": 5
}
